{
  "nbformat": 4,
  "nbformat_minor": 0,
  "metadata": {
    "colab": {
      "name": "grid",
      "provenance": [],
      "collapsed_sections": []
    },
    "kernelspec": {
      "name": "python3",
      "display_name": "Python 3"
    }
  },
  "cells": [
    {
      "cell_type": "code",
      "metadata": {
        "colab": {
          "base_uri": "https://localhost:8080/"
        },
        "id": "2cf-56m4fGCP",
        "outputId": "88022d0d-2885-4175-9ba5-a5cde488c107"
      },
      "source": [
        "import numpy as np \r\n",
        "import pandas as pd\r\n",
        "from sklearn.svm import SVC\r\n",
        "from sklearn.model_selection import train_test_split\r\n",
        "from sklearn.model_selection import GridSearchCV\r\n",
        "from sklearn.model_selection import StratifiedKFold\r\n",
        "from sklearn.ensemble import RandomForestClassifier\r\n",
        "from sklearn.feature_selection import RFECV\r\n",
        "\r\n",
        "df=pd.read_csv('h.csv')\r\n",
        "df.head()\r\n",
        "# Pre-Processing\r\n",
        "df = df.fillna(method='ffill')\r\n",
        "\r\n",
        "df=df.replace(np.nan,0)\r\n",
        "# split the dataset to x and y that contain the feature\r\n",
        "x_feature=df.drop(['Prediction(Heart disease)'], axis=1)\r\n",
        "\r\n",
        "x = x_feature.iloc[:,:].values\r\n",
        "\r\n",
        "y=df['Prediction(Heart disease)']\r\n",
        "# y = y_label.iloc[:,:]\r\n",
        "\r\n",
        "\r\n",
        "\r\n",
        "x_train, x_test, y_train, y_test = train_test_split(x, y, random_state=0)\r\n",
        "\r\n",
        "k_fold = StratifiedKFold(n_splits=5, shuffle=True, random_state=0)\r\n",
        "\r\n",
        "clf = RandomForestClassifier(random_state = 42, class_weight=\"balanced\")\r\n",
        "\r\n",
        "rfecv = RFECV(estimator=clf, step=1, cv=k_fold, scoring='roc_auc')\r\n",
        "\r\n",
        "param_grid = {'estimator__n_estimators': [2, 5],\r\n",
        "    'estimator__max_features': ['auto', 'sqrt', 'log2'],\r\n",
        "    'estimator__max_depth' : [3,4,5]\r\n",
        "    }\r\n",
        "\r\n",
        "CV_rfc = GridSearchCV(estimator=rfecv, param_grid=param_grid, cv= k_fold, scoring = 'roc_auc', verbose=10, n_jobs = 5)\r\n",
        "CV_rfc.fit(x_train, y_train)\r\n",
        "print(\"Finished feature selection and parameter tuning\")"
      ],
      "execution_count": 18,
      "outputs": [
        {
          "output_type": "stream",
          "text": [
            "Fitting 5 folds for each of 18 candidates, totalling 90 fits\n"
          ],
          "name": "stdout"
        },
        {
          "output_type": "stream",
          "text": [
            "[Parallel(n_jobs=5)]: Using backend LokyBackend with 5 concurrent workers.\n",
            "[Parallel(n_jobs=5)]: Done   3 tasks      | elapsed:    1.2s\n",
            "[Parallel(n_jobs=5)]: Done   8 tasks      | elapsed:    3.2s\n",
            "[Parallel(n_jobs=5)]: Done  15 tasks      | elapsed:    4.3s\n",
            "[Parallel(n_jobs=5)]: Done  22 tasks      | elapsed:    7.0s\n",
            "[Parallel(n_jobs=5)]: Done  31 tasks      | elapsed:    9.8s\n",
            "[Parallel(n_jobs=5)]: Done  40 tasks      | elapsed:   12.2s\n",
            "[Parallel(n_jobs=5)]: Done  51 tasks      | elapsed:   15.7s\n",
            "[Parallel(n_jobs=5)]: Done  62 tasks      | elapsed:   18.6s\n",
            "[Parallel(n_jobs=5)]: Done  75 tasks      | elapsed:   22.2s\n",
            "[Parallel(n_jobs=5)]: Done  90 out of  90 | elapsed:   26.6s finished\n"
          ],
          "name": "stderr"
        },
        {
          "output_type": "stream",
          "text": [
            "Finished feature selection and parameter tuning\n"
          ],
          "name": "stdout"
        }
      ]
    }
  ]
}
